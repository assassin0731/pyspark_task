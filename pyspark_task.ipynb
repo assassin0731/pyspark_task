{
 "cells": [
  {
   "cell_type": "code",
   "execution_count": 23,
   "metadata": {},
   "outputs": [],
   "source": [
    "import os\n",
    "os.environ[\"JAVA_HOME\"] = \"C:/Program Files/Java/jdk-21\"\n",
    "os.environ[\"SPARK_HOME\"] = \"C:/spark-3.5.1-bin-hadoop3\"\n",
    "import findspark\n",
    "findspark.init()\n",
    "\n",
    "from pyspark.sql import SparkSession\n",
    "\n",
    "spark = SparkSession.builder\\\n",
    "        .master(\"local[*]\")\\\n",
    "        .appName('PySpark')\\\n",
    "        .getOrCreate()"
   ]
  },
  {
   "cell_type": "code",
   "execution_count": 60,
   "metadata": {},
   "outputs": [],
   "source": [
    "products = spark.createDataFrame([\n",
    "    {\"Id\": 1, \"name\": \"milk\"},\n",
    "    {\"Id\": 2, \"name\": \"cheese\"},\n",
    "    {\"Id\": 3, \"name\": \"bread\"},\n",
    "    {\"Id\": 4, \"name\": \"muffin\"},\n",
    "    {\"Id\": 5, \"name\": \"water\"}\n",
    "])"
   ]
  },
  {
   "cell_type": "code",
   "execution_count": 61,
   "metadata": {},
   "outputs": [],
   "source": [
    "types = spark.createDataFrame([\n",
    "    {\"Id\": 1, \"type\": \"type_1\"},\n",
    "    {\"Id\": 2, \"type\": \"type_2\"},\n",
    "    {\"Id\": 3, \"type\": \"type_3\"},\n",
    "    {\"Id\": 4, \"type\": \"type_4\"}\n",
    "])"
   ]
  },
  {
   "cell_type": "code",
   "execution_count": 62,
   "metadata": {},
   "outputs": [],
   "source": [
    "connections = spark.createDataFrame([\n",
    "    {\"type_id\": 1, \"name_id\": 1},\n",
    "    {\"type_id\": 1, \"name_id\": 2},\n",
    "    {\"type_id\": 2, \"name_id\": 1},\n",
    "    {\"type_id\": 2, \"name_id\": 2},\n",
    "    {\"type_id\": 2, \"name_id\": 3},\n",
    "    {\"type_id\": 3, \"name_id\": 4},\n",
    "])"
   ]
  },
  {
   "cell_type": "code",
   "execution_count": 70,
   "metadata": {},
   "outputs": [],
   "source": [
    "from pyspark.sql.functions import asc\n",
    "\n",
    "products_with_types = products.join(connections, connections.name_id == products.Id, how = 'left') \\\n",
    "                              .join(types, types.Id == connections.type_id, how = 'left') \\\n",
    "                              .select(products.name, types.type).sort(asc(\"name\"))"
   ]
  },
  {
   "cell_type": "code",
   "execution_count": 71,
   "metadata": {},
   "outputs": [
    {
     "name": "stdout",
     "output_type": "stream",
     "text": [
      "+------+------+\n",
      "|  name|  type|\n",
      "+------+------+\n",
      "| bread|type_2|\n",
      "|cheese|type_1|\n",
      "|cheese|type_2|\n",
      "|  milk|type_1|\n",
      "|  milk|type_2|\n",
      "|muffin|type_3|\n",
      "| water|  NULL|\n",
      "+------+------+\n",
      "\n"
     ]
    }
   ],
   "source": [
    "products_with_types.show()"
   ]
  },
  {
   "cell_type": "code",
   "execution_count": null,
   "metadata": {},
   "outputs": [],
   "source": []
  }
 ],
 "metadata": {
  "kernelspec": {
   "display_name": "Python 3",
   "language": "python",
   "name": "python3"
  },
  "language_info": {
   "codemirror_mode": {
    "name": "ipython",
    "version": 3
   },
   "file_extension": ".py",
   "mimetype": "text/x-python",
   "name": "python",
   "nbconvert_exporter": "python",
   "pygments_lexer": "ipython3",
   "version": "3.8.3"
  }
 },
 "nbformat": 4,
 "nbformat_minor": 4
}
